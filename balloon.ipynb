{
  "nbformat": 4,
  "nbformat_minor": 0,
  "metadata": {
    "colab": {
      "name": "balloon.ipynb",
      "provenance": [],
      "collapsed_sections": []
    },
    "kernelspec": {
      "name": "python3",
      "display_name": "Python 3"
    },
    "accelerator": "GPU"
  },
  "cells": [
    {
      "cell_type": "markdown",
      "metadata": {
        "id": "9wyfFrIgAcqO"
      },
      "source": [
        "# Mask R-CNN"
      ]
    },
    {
      "cell_type": "markdown",
      "metadata": {
        "id": "w5xPc4HfAjKs"
      },
      "source": [
        "## github에서 Mask R-CNN 코드 가져오기"
      ]
    },
    {
      "cell_type": "code",
      "metadata": {
        "colab": {
          "base_uri": "https://localhost:8080/"
        },
        "id": "ZYi1g7wGKcdo",
        "outputId": "eea11986-7d47-4e97-82be-f41ed81f825f"
      },
      "source": [
        "!git clone https://github.com/matterport/Mask_RCNN.git"
      ],
      "execution_count": null,
      "outputs": [
        {
          "output_type": "stream",
          "text": [
            "Cloning into 'Mask_RCNN'...\n",
            "remote: Enumerating objects: 956, done.\u001b[K\n",
            "remote: Total 956 (delta 0), reused 0 (delta 0), pack-reused 956\u001b[K\n",
            "Receiving objects: 100% (956/956), 125.23 MiB | 21.79 MiB/s, done.\n",
            "Resolving deltas: 100% (562/562), done.\n"
          ],
          "name": "stdout"
        }
      ]
    },
    {
      "cell_type": "markdown",
      "metadata": {
        "id": "WuhypnLuApt1"
      },
      "source": [
        "## 가져온 코드내의 폴더로 이동"
      ]
    },
    {
      "cell_type": "code",
      "metadata": {
        "colab": {
          "base_uri": "https://localhost:8080/"
        },
        "id": "nW7W8fNsRLth",
        "outputId": "3fbebec9-5bb2-4d8d-ef02-fc5341c62523"
      },
      "source": [
        "%cd /content/Mask_RCNN"
      ],
      "execution_count": null,
      "outputs": [
        {
          "output_type": "stream",
          "text": [
            "/content/Mask_RCNN\n"
          ],
          "name": "stdout"
        }
      ]
    },
    {
      "cell_type": "markdown",
      "metadata": {
        "id": "1Em5zRSmAxAT"
      },
      "source": [
        "## Mask R-CNN 학습에 알맞은 텐서플로우와 케라스 버전으로 다운그레이드"
      ]
    },
    {
      "cell_type": "code",
      "metadata": {
        "colab": {
          "base_uri": "https://localhost:8080/"
        },
        "id": "8dyvLpMZRJm3",
        "outputId": "3c8ac550-9bbd-4c3a-8735-a1f46b06b1bd"
      },
      "source": [
        "!pip install tensorboard==1.15.0 tensorflow==1.15.0 tensorflow-estimator==1.15.1 tensorflow-gpu==1.15.2 tensorflow-gpu-estimator==2.1.0 Keras==2.2.5 Keras-Applications==1.0.8 Keras-Preprocessing==1.1.0 h5py==2.10.0"
      ],
      "execution_count": null,
      "outputs": [
        {
          "output_type": "stream",
          "text": [
            "Requirement already satisfied: tensorboard==1.15.0 in /usr/local/lib/python3.7/dist-packages (1.15.0)\n",
            "Requirement already satisfied: tensorflow==1.15.0 in /usr/local/lib/python3.7/dist-packages (1.15.0)\n",
            "Requirement already satisfied: tensorflow-estimator==1.15.1 in /usr/local/lib/python3.7/dist-packages (1.15.1)\n",
            "Requirement already satisfied: tensorflow-gpu==1.15.2 in /usr/local/lib/python3.7/dist-packages (1.15.2)\n",
            "Requirement already satisfied: tensorflow-gpu-estimator==2.1.0 in /usr/local/lib/python3.7/dist-packages (2.1.0)\n",
            "Requirement already satisfied: Keras==2.2.5 in /usr/local/lib/python3.7/dist-packages (2.2.5)\n",
            "Requirement already satisfied: Keras-Applications==1.0.8 in /usr/local/lib/python3.7/dist-packages (1.0.8)\n",
            "Requirement already satisfied: Keras-Preprocessing==1.1.0 in /usr/local/lib/python3.7/dist-packages (1.1.0)\n",
            "Collecting h5py==2.10.0\n",
            "  Downloading h5py-2.10.0-cp37-cp37m-manylinux1_x86_64.whl (2.9 MB)\n",
            "\u001b[K     |████████████████████████████████| 2.9 MB 4.3 MB/s \n",
            "\u001b[?25hRequirement already satisfied: markdown>=2.6.8 in /usr/local/lib/python3.7/dist-packages (from tensorboard==1.15.0) (3.3.4)\n",
            "Requirement already satisfied: absl-py>=0.4 in /usr/local/lib/python3.7/dist-packages (from tensorboard==1.15.0) (0.12.0)\n",
            "Requirement already satisfied: protobuf>=3.6.0 in /usr/local/lib/python3.7/dist-packages (from tensorboard==1.15.0) (3.17.3)\n",
            "Requirement already satisfied: grpcio>=1.6.3 in /usr/local/lib/python3.7/dist-packages (from tensorboard==1.15.0) (1.39.0)\n",
            "Requirement already satisfied: numpy>=1.12.0 in /usr/local/lib/python3.7/dist-packages (from tensorboard==1.15.0) (1.19.5)\n",
            "Requirement already satisfied: wheel>=0.26 in /usr/local/lib/python3.7/dist-packages (from tensorboard==1.15.0) (0.37.0)\n",
            "Requirement already satisfied: six>=1.10.0 in /usr/local/lib/python3.7/dist-packages (from tensorboard==1.15.0) (1.15.0)\n",
            "Requirement already satisfied: setuptools>=41.0.0 in /usr/local/lib/python3.7/dist-packages (from tensorboard==1.15.0) (57.4.0)\n",
            "Requirement already satisfied: werkzeug>=0.11.15 in /usr/local/lib/python3.7/dist-packages (from tensorboard==1.15.0) (1.0.1)\n",
            "Requirement already satisfied: google-pasta>=0.1.6 in /usr/local/lib/python3.7/dist-packages (from tensorflow==1.15.0) (0.2.0)\n",
            "Requirement already satisfied: wrapt>=1.11.1 in /usr/local/lib/python3.7/dist-packages (from tensorflow==1.15.0) (1.12.1)\n",
            "Requirement already satisfied: opt-einsum>=2.3.2 in /usr/local/lib/python3.7/dist-packages (from tensorflow==1.15.0) (3.3.0)\n",
            "Requirement already satisfied: termcolor>=1.1.0 in /usr/local/lib/python3.7/dist-packages (from tensorflow==1.15.0) (1.1.0)\n",
            "Requirement already satisfied: astor>=0.6.0 in /usr/local/lib/python3.7/dist-packages (from tensorflow==1.15.0) (0.8.1)\n",
            "Requirement already satisfied: gast==0.2.2 in /usr/local/lib/python3.7/dist-packages (from tensorflow==1.15.0) (0.2.2)\n",
            "Requirement already satisfied: scipy>=0.14 in /usr/local/lib/python3.7/dist-packages (from Keras==2.2.5) (1.4.1)\n",
            "Requirement already satisfied: pyyaml in /usr/local/lib/python3.7/dist-packages (from Keras==2.2.5) (3.13)\n",
            "Requirement already satisfied: importlib-metadata in /usr/local/lib/python3.7/dist-packages (from markdown>=2.6.8->tensorboard==1.15.0) (4.6.4)\n",
            "Requirement already satisfied: typing-extensions>=3.6.4 in /usr/local/lib/python3.7/dist-packages (from importlib-metadata->markdown>=2.6.8->tensorboard==1.15.0) (3.7.4.3)\n",
            "Requirement already satisfied: zipp>=0.5 in /usr/local/lib/python3.7/dist-packages (from importlib-metadata->markdown>=2.6.8->tensorboard==1.15.0) (3.5.0)\n",
            "Installing collected packages: h5py\n",
            "  Attempting uninstall: h5py\n",
            "    Found existing installation: h5py 3.1.0\n",
            "    Uninstalling h5py-3.1.0:\n",
            "      Successfully uninstalled h5py-3.1.0\n",
            "Successfully installed h5py-2.10.0\n"
          ],
          "name": "stdout"
        }
      ]
    },
    {
      "cell_type": "markdown",
      "metadata": {
        "id": "Sn7vKooXA8ah"
      },
      "source": [
        "## 데이터셋 관련 작업"
      ]
    },
    {
      "cell_type": "markdown",
      "metadata": {
        "id": "MNoZ4H6VBHla"
      },
      "source": [
        "### balloon 예제 폴더로 이동"
      ]
    },
    {
      "cell_type": "code",
      "metadata": {
        "colab": {
          "base_uri": "https://localhost:8080/"
        },
        "id": "Z73xneONN_fp",
        "outputId": "d0f782b2-4980-4ce8-c0dd-1c94b72695b0"
      },
      "source": [
        "%cd ./samples/balloon"
      ],
      "execution_count": null,
      "outputs": [
        {
          "output_type": "stream",
          "text": [
            "/content/Mask_RCNN/samples/balloon\n"
          ],
          "name": "stdout"
        }
      ]
    },
    {
      "cell_type": "markdown",
      "metadata": {
        "id": "-fWAI3TNBLra"
      },
      "source": [
        "### dataset 폴더 생성 및 하위 폴더 생성"
      ]
    },
    {
      "cell_type": "code",
      "metadata": {
        "colab": {
          "base_uri": "https://localhost:8080/"
        },
        "id": "p1PQn8t8Nt11",
        "outputId": "ced3a791-9be6-4ee7-d1dd-503577d29fad"
      },
      "source": [
        "%mkdir dataset\n",
        "%cd dataset/\n",
        "%mkdir train\n",
        "%mkdir val\n",
        "%cd ..\n",
        "%ls"
      ],
      "execution_count": null,
      "outputs": [
        {
          "output_type": "stream",
          "text": [
            "mkdir: cannot create directory ‘dataset’: File exists\n",
            "/content/Mask_RCNN/samples/balloon/dataset\n",
            "mkdir: cannot create directory ‘train’: File exists\n",
            "mkdir: cannot create directory ‘val’: File exists\n",
            "/content/Mask_RCNN/samples/balloon\n",
            "balloon.py  inspect_balloon_data.ipynb   README.md\n",
            "\u001b[0m\u001b[01;34mdataset\u001b[0m/    inspect_balloon_model.ipynb\n"
          ],
          "name": "stdout"
        }
      ]
    },
    {
      "cell_type": "markdown",
      "metadata": {
        "id": "YmutpuOABOgT"
      },
      "source": [
        "### (**중요!**) 미리 준비한 데이터를 train과 val 폴더에 업로드.\n"
      ]
    },
    {
      "cell_type": "markdown",
      "metadata": {
        "id": "allfSZJsBd3_"
      },
      "source": [
        "## 학습 시작"
      ]
    },
    {
      "cell_type": "code",
      "metadata": {
        "colab": {
          "base_uri": "https://localhost:8080/"
        },
        "id": "JcyCKj3rOFSe",
        "outputId": "40c07587-e714-48f2-bb86-e1f0c47118be"
      },
      "source": [
        "!python3 balloon.py train --dataset='/content/Mask_RCNN/samples/balloon/dataset' --weights=coco"
      ],
      "execution_count": null,
      "outputs": [
        {
          "output_type": "stream",
          "text": [
            "Using TensorFlow backend.\n",
            "Weights:  coco\n",
            "Dataset:  /content/Mask_RCNN/samples/balloon/dataset\n",
            "Logs:  /content/Mask_RCNN/logs\n",
            "\n",
            "Configurations:\n",
            "BACKBONE                       resnet101\n",
            "BACKBONE_STRIDES               [4, 8, 16, 32, 64]\n",
            "BATCH_SIZE                     2\n",
            "BBOX_STD_DEV                   [0.1 0.1 0.2 0.2]\n",
            "COMPUTE_BACKBONE_SHAPE         None\n",
            "DETECTION_MAX_INSTANCES        100\n",
            "DETECTION_MIN_CONFIDENCE       0.9\n",
            "DETECTION_NMS_THRESHOLD        0.3\n",
            "FPN_CLASSIF_FC_LAYERS_SIZE     1024\n",
            "GPU_COUNT                      1\n",
            "GRADIENT_CLIP_NORM             5.0\n",
            "IMAGES_PER_GPU                 2\n",
            "IMAGE_CHANNEL_COUNT            3\n",
            "IMAGE_MAX_DIM                  1024\n",
            "IMAGE_META_SIZE                14\n",
            "IMAGE_MIN_DIM                  800\n",
            "IMAGE_MIN_SCALE                0\n",
            "IMAGE_RESIZE_MODE              square\n",
            "IMAGE_SHAPE                    [1024 1024    3]\n",
            "LEARNING_MOMENTUM              0.9\n",
            "LEARNING_RATE                  0.001\n",
            "LOSS_WEIGHTS                   {'rpn_class_loss': 1.0, 'rpn_bbox_loss': 1.0, 'mrcnn_class_loss': 1.0, 'mrcnn_bbox_loss': 1.0, 'mrcnn_mask_loss': 1.0}\n",
            "MASK_POOL_SIZE                 14\n",
            "MASK_SHAPE                     [28, 28]\n",
            "MAX_GT_INSTANCES               100\n",
            "MEAN_PIXEL                     [123.7 116.8 103.9]\n",
            "MINI_MASK_SHAPE                (56, 56)\n",
            "NAME                           balloon\n",
            "NUM_CLASSES                    2\n",
            "POOL_SIZE                      7\n",
            "POST_NMS_ROIS_INFERENCE        1000\n",
            "POST_NMS_ROIS_TRAINING         2000\n",
            "PRE_NMS_LIMIT                  6000\n",
            "ROI_POSITIVE_RATIO             0.33\n",
            "RPN_ANCHOR_RATIOS              [0.5, 1, 2]\n",
            "RPN_ANCHOR_SCALES              (32, 64, 128, 256, 512)\n",
            "RPN_ANCHOR_STRIDE              1\n",
            "RPN_BBOX_STD_DEV               [0.1 0.1 0.2 0.2]\n",
            "RPN_NMS_THRESHOLD              0.7\n",
            "RPN_TRAIN_ANCHORS_PER_IMAGE    256\n",
            "STEPS_PER_EPOCH                100\n",
            "TOP_DOWN_PYRAMID_SIZE          256\n",
            "TRAIN_BN                       False\n",
            "TRAIN_ROIS_PER_IMAGE           200\n",
            "USE_MINI_MASK                  True\n",
            "USE_RPN_ROIS                   True\n",
            "VALIDATION_STEPS               50\n",
            "WEIGHT_DECAY                   0.0001\n",
            "\n",
            "\n",
            "WARNING:tensorflow:From /usr/local/lib/python3.7/dist-packages/keras/backend/tensorflow_backend.py:541: The name tf.placeholder is deprecated. Please use tf.compat.v1.placeholder instead.\n",
            "\n",
            "WARNING:tensorflow:From /usr/local/lib/python3.7/dist-packages/keras/backend/tensorflow_backend.py:66: The name tf.get_default_graph is deprecated. Please use tf.compat.v1.get_default_graph instead.\n",
            "\n",
            "WARNING:tensorflow:From /usr/local/lib/python3.7/dist-packages/keras/backend/tensorflow_backend.py:4432: The name tf.random_uniform is deprecated. Please use tf.random.uniform instead.\n",
            "\n",
            "WARNING:tensorflow:From /usr/local/lib/python3.7/dist-packages/keras/backend/tensorflow_backend.py:2139: The name tf.nn.fused_batch_norm is deprecated. Please use tf.compat.v1.nn.fused_batch_norm instead.\n",
            "\n",
            "WARNING:tensorflow:From /usr/local/lib/python3.7/dist-packages/keras/backend/tensorflow_backend.py:4267: The name tf.nn.max_pool is deprecated. Please use tf.nn.max_pool2d instead.\n",
            "\n",
            "WARNING:tensorflow:From /usr/local/lib/python3.7/dist-packages/keras/backend/tensorflow_backend.py:2239: The name tf.image.resize_nearest_neighbor is deprecated. Please use tf.compat.v1.image.resize_nearest_neighbor instead.\n",
            "\n",
            "WARNING:tensorflow:From /usr/local/lib/python3.7/dist-packages/tensorflow_core/python/ops/array_ops.py:1475: where (from tensorflow.python.ops.array_ops) is deprecated and will be removed in a future version.\n",
            "Instructions for updating:\n",
            "Use tf.where in 2.0, which has the same broadcast rule as np.where\n",
            "WARNING:tensorflow:From /content/Mask_RCNN/mrcnn/model.py:553: The name tf.random_shuffle is deprecated. Please use tf.random.shuffle instead.\n",
            "\n",
            "WARNING:tensorflow:From /content/Mask_RCNN/mrcnn/utils.py:202: The name tf.log is deprecated. Please use tf.math.log instead.\n",
            "\n",
            "WARNING:tensorflow:From /content/Mask_RCNN/mrcnn/model.py:600: calling crop_and_resize_v1 (from tensorflow.python.ops.image_ops_impl) with box_ind is deprecated and will be removed in a future version.\n",
            "Instructions for updating:\n",
            "box_ind is deprecated, use box_indices instead\n",
            "Loading weights  /content/Mask_RCNN/mask_rcnn_coco.h5\n",
            "WARNING:tensorflow:From /usr/local/lib/python3.7/dist-packages/keras/backend/tensorflow_backend.py:190: The name tf.get_default_session is deprecated. Please use tf.compat.v1.get_default_session instead.\n",
            "\n",
            "WARNING:tensorflow:From /usr/local/lib/python3.7/dist-packages/keras/backend/tensorflow_backend.py:197: The name tf.ConfigProto is deprecated. Please use tf.compat.v1.ConfigProto instead.\n",
            "\n",
            "WARNING:tensorflow:From /usr/local/lib/python3.7/dist-packages/keras/backend/tensorflow_backend.py:203: The name tf.Session is deprecated. Please use tf.compat.v1.Session instead.\n",
            "\n",
            "2021-08-20 11:46:20.882024: I tensorflow/core/platform/cpu_feature_guard.cc:142] Your CPU supports instructions that this TensorFlow binary was not compiled to use: AVX2 FMA\n",
            "2021-08-20 11:46:20.887258: I tensorflow/core/platform/profile_utils/cpu_utils.cc:94] CPU Frequency: 2199995000 Hz\n",
            "2021-08-20 11:46:20.887529: I tensorflow/compiler/xla/service/service.cc:168] XLA service 0x55ddab470bc0 initialized for platform Host (this does not guarantee that XLA will be used). Devices:\n",
            "2021-08-20 11:46:20.887565: I tensorflow/compiler/xla/service/service.cc:176]   StreamExecutor device (0): Host, Default Version\n",
            "2021-08-20 11:46:20.891670: I tensorflow/stream_executor/platform/default/dso_loader.cc:44] Successfully opened dynamic library libcuda.so.1\n",
            "2021-08-20 11:46:21.090765: I tensorflow/stream_executor/cuda/cuda_gpu_executor.cc:983] successful NUMA node read from SysFS had negative value (-1), but there must be at least one NUMA node, so returning NUMA node zero\n",
            "2021-08-20 11:46:21.091879: I tensorflow/compiler/xla/service/service.cc:168] XLA service 0x55ddab471100 initialized for platform CUDA (this does not guarantee that XLA will be used). Devices:\n",
            "2021-08-20 11:46:21.094121: I tensorflow/compiler/xla/service/service.cc:176]   StreamExecutor device (0): Tesla K80, Compute Capability 3.7\n",
            "2021-08-20 11:46:21.096434: I tensorflow/stream_executor/cuda/cuda_gpu_executor.cc:983] successful NUMA node read from SysFS had negative value (-1), but there must be at least one NUMA node, so returning NUMA node zero\n",
            "2021-08-20 11:46:21.097151: I tensorflow/core/common_runtime/gpu/gpu_device.cc:1618] Found device 0 with properties: \n",
            "name: Tesla K80 major: 3 minor: 7 memoryClockRate(GHz): 0.8235\n",
            "pciBusID: 0000:00:04.0\n",
            "2021-08-20 11:46:21.116080: I tensorflow/stream_executor/platform/default/dso_loader.cc:44] Successfully opened dynamic library libcudart.so.10.0\n",
            "2021-08-20 11:46:21.345125: I tensorflow/stream_executor/platform/default/dso_loader.cc:44] Successfully opened dynamic library libcublas.so.10.0\n",
            "2021-08-20 11:46:21.431994: I tensorflow/stream_executor/platform/default/dso_loader.cc:44] Successfully opened dynamic library libcufft.so.10.0\n",
            "2021-08-20 11:46:21.455036: I tensorflow/stream_executor/platform/default/dso_loader.cc:44] Successfully opened dynamic library libcurand.so.10.0\n",
            "2021-08-20 11:46:21.706460: I tensorflow/stream_executor/platform/default/dso_loader.cc:44] Successfully opened dynamic library libcusolver.so.10.0\n",
            "2021-08-20 11:46:21.858238: I tensorflow/stream_executor/platform/default/dso_loader.cc:44] Successfully opened dynamic library libcusparse.so.10.0\n",
            "2021-08-20 11:46:22.395179: I tensorflow/stream_executor/platform/default/dso_loader.cc:44] Successfully opened dynamic library libcudnn.so.7\n",
            "2021-08-20 11:46:22.395494: I tensorflow/stream_executor/cuda/cuda_gpu_executor.cc:983] successful NUMA node read from SysFS had negative value (-1), but there must be at least one NUMA node, so returning NUMA node zero\n",
            "2021-08-20 11:46:22.396393: I tensorflow/stream_executor/cuda/cuda_gpu_executor.cc:983] successful NUMA node read from SysFS had negative value (-1), but there must be at least one NUMA node, so returning NUMA node zero\n",
            "2021-08-20 11:46:22.397170: I tensorflow/core/common_runtime/gpu/gpu_device.cc:1746] Adding visible gpu devices: 0\n",
            "2021-08-20 11:46:22.397278: I tensorflow/stream_executor/platform/default/dso_loader.cc:44] Successfully opened dynamic library libcudart.so.10.0\n",
            "2021-08-20 11:46:22.398791: I tensorflow/core/common_runtime/gpu/gpu_device.cc:1159] Device interconnect StreamExecutor with strength 1 edge matrix:\n",
            "2021-08-20 11:46:22.398829: I tensorflow/core/common_runtime/gpu/gpu_device.cc:1165]      0 \n",
            "2021-08-20 11:46:22.398848: I tensorflow/core/common_runtime/gpu/gpu_device.cc:1178] 0:   N \n",
            "2021-08-20 11:46:22.399044: I tensorflow/stream_executor/cuda/cuda_gpu_executor.cc:983] successful NUMA node read from SysFS had negative value (-1), but there must be at least one NUMA node, so returning NUMA node zero\n",
            "2021-08-20 11:46:22.399853: I tensorflow/stream_executor/cuda/cuda_gpu_executor.cc:983] successful NUMA node read from SysFS had negative value (-1), but there must be at least one NUMA node, so returning NUMA node zero\n",
            "2021-08-20 11:46:22.400594: W tensorflow/core/common_runtime/gpu/gpu_bfc_allocator.cc:39] Overriding allow_growth setting because the TF_FORCE_GPU_ALLOW_GROWTH environment variable is set. Original config value was 0.\n",
            "2021-08-20 11:46:22.400663: I tensorflow/core/common_runtime/gpu/gpu_device.cc:1304] Created TensorFlow device (/job:localhost/replica:0/task:0/device:GPU:0 with 10813 MB memory) -> physical GPU (device: 0, name: Tesla K80, pci bus id: 0000:00:04.0, compute capability: 3.7)\n",
            "WARNING:tensorflow:From /usr/local/lib/python3.7/dist-packages/keras/backend/tensorflow_backend.py:207: The name tf.global_variables is deprecated. Please use tf.compat.v1.global_variables instead.\n",
            "\n",
            "WARNING:tensorflow:From /usr/local/lib/python3.7/dist-packages/keras/backend/tensorflow_backend.py:216: The name tf.is_variable_initialized is deprecated. Please use tf.compat.v1.is_variable_initialized instead.\n",
            "\n",
            "WARNING:tensorflow:From /usr/local/lib/python3.7/dist-packages/keras/backend/tensorflow_backend.py:223: The name tf.variables_initializer is deprecated. Please use tf.compat.v1.variables_initializer instead.\n",
            "\n",
            "Training network heads\n",
            "\n",
            "Starting at epoch 0. LR=0.001\n",
            "\n",
            "Checkpoint Path: /content/Mask_RCNN/logs/balloon20210820T1146/mask_rcnn_balloon_{epoch:04d}.h5\n",
            "Selecting layers to train\n",
            "fpn_c5p5               (Conv2D)\n",
            "fpn_c4p4               (Conv2D)\n",
            "fpn_c3p3               (Conv2D)\n",
            "fpn_c2p2               (Conv2D)\n",
            "fpn_p5                 (Conv2D)\n",
            "fpn_p2                 (Conv2D)\n",
            "fpn_p3                 (Conv2D)\n",
            "fpn_p4                 (Conv2D)\n",
            "In model:  rpn_model\n",
            "    rpn_conv_shared        (Conv2D)\n",
            "    rpn_class_raw          (Conv2D)\n",
            "    rpn_bbox_pred          (Conv2D)\n",
            "mrcnn_mask_conv1       (TimeDistributed)\n",
            "mrcnn_mask_bn1         (TimeDistributed)\n",
            "mrcnn_mask_conv2       (TimeDistributed)\n",
            "mrcnn_mask_bn2         (TimeDistributed)\n",
            "mrcnn_class_conv1      (TimeDistributed)\n",
            "mrcnn_class_bn1        (TimeDistributed)\n",
            "mrcnn_mask_conv3       (TimeDistributed)\n",
            "mrcnn_mask_bn3         (TimeDistributed)\n",
            "mrcnn_class_conv2      (TimeDistributed)\n",
            "mrcnn_class_bn2        (TimeDistributed)\n",
            "mrcnn_mask_conv4       (TimeDistributed)\n",
            "mrcnn_mask_bn4         (TimeDistributed)\n",
            "mrcnn_bbox_fc          (TimeDistributed)\n",
            "mrcnn_mask_deconv      (TimeDistributed)\n",
            "mrcnn_class_logits     (TimeDistributed)\n",
            "mrcnn_mask             (TimeDistributed)\n",
            "WARNING:tensorflow:From /usr/local/lib/python3.7/dist-packages/keras/optimizers.py:793: The name tf.train.Optimizer is deprecated. Please use tf.compat.v1.train.Optimizer instead.\n",
            "\n",
            "/usr/local/lib/python3.7/dist-packages/tensorflow_core/python/framework/indexed_slices.py:424: UserWarning: Converting sparse IndexedSlices to a dense Tensor of unknown shape. This may consume a large amount of memory.\n",
            "  \"Converting sparse IndexedSlices to a dense Tensor of unknown shape. \"\n",
            "/usr/local/lib/python3.7/dist-packages/tensorflow_core/python/framework/indexed_slices.py:424: UserWarning: Converting sparse IndexedSlices to a dense Tensor of unknown shape. This may consume a large amount of memory.\n",
            "  \"Converting sparse IndexedSlices to a dense Tensor of unknown shape. \"\n",
            "/usr/local/lib/python3.7/dist-packages/tensorflow_core/python/framework/indexed_slices.py:424: UserWarning: Converting sparse IndexedSlices to a dense Tensor of unknown shape. This may consume a large amount of memory.\n",
            "  \"Converting sparse IndexedSlices to a dense Tensor of unknown shape. \"\n",
            "WARNING:tensorflow:From /usr/local/lib/python3.7/dist-packages/keras/backend/tensorflow_backend.py:1033: The name tf.assign_add is deprecated. Please use tf.compat.v1.assign_add instead.\n",
            "\n",
            "WARNING:tensorflow:From /usr/local/lib/python3.7/dist-packages/keras/backend/tensorflow_backend.py:1020: The name tf.assign is deprecated. Please use tf.compat.v1.assign instead.\n",
            "\n",
            "/usr/local/lib/python3.7/dist-packages/keras/engine/training_generator.py:49: UserWarning: Using a generator with `use_multiprocessing=True` and multiple workers may duplicate your data. Please consider using the `keras.utils.Sequence class.\n",
            "  UserWarning('Using a generator with `use_multiprocessing=True`'\n",
            "WARNING:tensorflow:From /usr/local/lib/python3.7/dist-packages/keras/callbacks.py:1122: The name tf.summary.merge_all is deprecated. Please use tf.compat.v1.summary.merge_all instead.\n",
            "\n",
            "WARNING:tensorflow:From /usr/local/lib/python3.7/dist-packages/keras/callbacks.py:1125: The name tf.summary.FileWriter is deprecated. Please use tf.compat.v1.summary.FileWriter instead.\n",
            "\n",
            "Epoch 1/30\n",
            "2021-08-20 11:47:03.279188: I tensorflow/stream_executor/platform/default/dso_loader.cc:44] Successfully opened dynamic library libcublas.so.10.0\n",
            "2021-08-20 11:47:04.705167: I tensorflow/stream_executor/platform/default/dso_loader.cc:44] Successfully opened dynamic library libcudnn.so.7\n",
            "100/100 [==============================] - 341s 3s/step - loss: 1.1305 - rpn_class_loss: 0.0300 - rpn_bbox_loss: 0.2000 - mrcnn_class_loss: 0.1118 - mrcnn_bbox_loss: 0.4608 - mrcnn_mask_loss: 0.3279 - val_loss: 0.7802 - val_rpn_class_loss: 0.0307 - val_rpn_bbox_loss: 0.2754 - val_mrcnn_class_loss: 0.0845 - val_mrcnn_bbox_loss: 0.2474 - val_mrcnn_mask_loss: 0.1422\n",
            "WARNING:tensorflow:From /usr/local/lib/python3.7/dist-packages/keras/callbacks.py:1265: The name tf.Summary is deprecated. Please use tf.compat.v1.Summary instead.\n",
            "\n",
            "Epoch 2/30\n",
            "100/100 [==============================] - 282s 3s/step - loss: 0.4368 - rpn_class_loss: 0.0127 - rpn_bbox_loss: 0.0832 - mrcnn_class_loss: 0.0605 - mrcnn_bbox_loss: 0.1486 - mrcnn_mask_loss: 0.1318 - val_loss: 0.7704 - val_rpn_class_loss: 0.0346 - val_rpn_bbox_loss: 0.3697 - val_mrcnn_class_loss: 0.0824 - val_mrcnn_bbox_loss: 0.1491 - val_mrcnn_mask_loss: 0.1345\n",
            "Epoch 3/30\n",
            "100/100 [==============================] - 282s 3s/step - loss: 0.3352 - rpn_class_loss: 0.0106 - rpn_bbox_loss: 0.0649 - mrcnn_class_loss: 0.0478 - mrcnn_bbox_loss: 0.0915 - mrcnn_mask_loss: 0.1205 - val_loss: 0.6656 - val_rpn_class_loss: 0.0411 - val_rpn_bbox_loss: 0.2878 - val_mrcnn_class_loss: 0.0981 - val_mrcnn_bbox_loss: 0.1278 - val_mrcnn_mask_loss: 0.1108\n",
            "Epoch 4/30\n",
            "100/100 [==============================] - 281s 3s/step - loss: 0.2731 - rpn_class_loss: 0.0062 - rpn_bbox_loss: 0.0469 - mrcnn_class_loss: 0.0430 - mrcnn_bbox_loss: 0.0763 - mrcnn_mask_loss: 0.1006 - val_loss: 0.7232 - val_rpn_class_loss: 0.0370 - val_rpn_bbox_loss: 0.3714 - val_mrcnn_class_loss: 0.0698 - val_mrcnn_bbox_loss: 0.1259 - val_mrcnn_mask_loss: 0.1190\n",
            "Epoch 5/30\n",
            "100/100 [==============================] - 281s 3s/step - loss: 0.2429 - rpn_class_loss: 0.0069 - rpn_bbox_loss: 0.0414 - mrcnn_class_loss: 0.0383 - mrcnn_bbox_loss: 0.0544 - mrcnn_mask_loss: 0.1018 - val_loss: 0.7102 - val_rpn_class_loss: 0.0529 - val_rpn_bbox_loss: 0.3693 - val_mrcnn_class_loss: 0.0649 - val_mrcnn_bbox_loss: 0.1194 - val_mrcnn_mask_loss: 0.1037\n",
            "Epoch 6/30\n",
            "100/100 [==============================] - 281s 3s/step - loss: 0.1853 - rpn_class_loss: 0.0047 - rpn_bbox_loss: 0.0311 - mrcnn_class_loss: 0.0234 - mrcnn_bbox_loss: 0.0440 - mrcnn_mask_loss: 0.0820 - val_loss: 0.7806 - val_rpn_class_loss: 0.0498 - val_rpn_bbox_loss: 0.4286 - val_mrcnn_class_loss: 0.0655 - val_mrcnn_bbox_loss: 0.1219 - val_mrcnn_mask_loss: 0.1147\n",
            "Epoch 7/30\n",
            "100/100 [==============================] - 281s 3s/step - loss: 0.1770 - rpn_class_loss: 0.0047 - rpn_bbox_loss: 0.0279 - mrcnn_class_loss: 0.0254 - mrcnn_bbox_loss: 0.0313 - mrcnn_mask_loss: 0.0876 - val_loss: 0.6892 - val_rpn_class_loss: 0.0479 - val_rpn_bbox_loss: 0.3995 - val_mrcnn_class_loss: 0.0526 - val_mrcnn_bbox_loss: 0.0934 - val_mrcnn_mask_loss: 0.0958\n",
            "Epoch 8/30\n",
            "100/100 [==============================] - 281s 3s/step - loss: 0.1619 - rpn_class_loss: 0.0043 - rpn_bbox_loss: 0.0230 - mrcnn_class_loss: 0.0260 - mrcnn_bbox_loss: 0.0273 - mrcnn_mask_loss: 0.0813 - val_loss: 0.6677 - val_rpn_class_loss: 0.0463 - val_rpn_bbox_loss: 0.3330 - val_mrcnn_class_loss: 0.0721 - val_mrcnn_bbox_loss: 0.1027 - val_mrcnn_mask_loss: 0.1136\n",
            "Epoch 9/30\n",
            "100/100 [==============================] - 284s 3s/step - loss: 0.1539 - rpn_class_loss: 0.0041 - rpn_bbox_loss: 0.0214 - mrcnn_class_loss: 0.0234 - mrcnn_bbox_loss: 0.0268 - mrcnn_mask_loss: 0.0783 - val_loss: 0.8625 - val_rpn_class_loss: 0.0671 - val_rpn_bbox_loss: 0.5033 - val_mrcnn_class_loss: 0.0591 - val_mrcnn_bbox_loss: 0.1126 - val_mrcnn_mask_loss: 0.1204\n",
            "Epoch 10/30\n",
            "100/100 [==============================] - 281s 3s/step - loss: 0.1462 - rpn_class_loss: 0.0038 - rpn_bbox_loss: 0.0192 - mrcnn_class_loss: 0.0200 - mrcnn_bbox_loss: 0.0243 - mrcnn_mask_loss: 0.0789 - val_loss: 0.7085 - val_rpn_class_loss: 0.0580 - val_rpn_bbox_loss: 0.3664 - val_mrcnn_class_loss: 0.0655 - val_mrcnn_bbox_loss: 0.1058 - val_mrcnn_mask_loss: 0.1128\n",
            "Epoch 11/30\n",
            "100/100 [==============================] - 281s 3s/step - loss: 0.1246 - rpn_class_loss: 0.0027 - rpn_bbox_loss: 0.0144 - mrcnn_class_loss: 0.0174 - mrcnn_bbox_loss: 0.0177 - mrcnn_mask_loss: 0.0724 - val_loss: 0.6789 - val_rpn_class_loss: 0.0581 - val_rpn_bbox_loss: 0.3553 - val_mrcnn_class_loss: 0.0633 - val_mrcnn_bbox_loss: 0.0913 - val_mrcnn_mask_loss: 0.1109\n",
            "Epoch 12/30\n",
            "100/100 [==============================] - 281s 3s/step - loss: 0.1255 - rpn_class_loss: 0.0025 - rpn_bbox_loss: 0.0131 - mrcnn_class_loss: 0.0196 - mrcnn_bbox_loss: 0.0182 - mrcnn_mask_loss: 0.0720 - val_loss: 0.8133 - val_rpn_class_loss: 0.0723 - val_rpn_bbox_loss: 0.4580 - val_mrcnn_class_loss: 0.0738 - val_mrcnn_bbox_loss: 0.0915 - val_mrcnn_mask_loss: 0.1176\n",
            "Epoch 13/30\n",
            "100/100 [==============================] - 281s 3s/step - loss: 0.1195 - rpn_class_loss: 0.0026 - rpn_bbox_loss: 0.0132 - mrcnn_class_loss: 0.0174 - mrcnn_bbox_loss: 0.0160 - mrcnn_mask_loss: 0.0703 - val_loss: 0.8094 - val_rpn_class_loss: 0.0687 - val_rpn_bbox_loss: 0.4683 - val_mrcnn_class_loss: 0.0565 - val_mrcnn_bbox_loss: 0.0973 - val_mrcnn_mask_loss: 0.1186\n",
            "Epoch 14/30\n",
            "100/100 [==============================] - 281s 3s/step - loss: 0.1183 - rpn_class_loss: 0.0025 - rpn_bbox_loss: 0.0122 - mrcnn_class_loss: 0.0173 - mrcnn_bbox_loss: 0.0143 - mrcnn_mask_loss: 0.0721 - val_loss: 0.8752 - val_rpn_class_loss: 0.0777 - val_rpn_bbox_loss: 0.5088 - val_mrcnn_class_loss: 0.0749 - val_mrcnn_bbox_loss: 0.0956 - val_mrcnn_mask_loss: 0.1182\n",
            "Epoch 15/30\n",
            "100/100 [==============================] - 281s 3s/step - loss: 0.1041 - rpn_class_loss: 0.0023 - rpn_bbox_loss: 0.0106 - mrcnn_class_loss: 0.0152 - mrcnn_bbox_loss: 0.0126 - mrcnn_mask_loss: 0.0633 - val_loss: 0.8073 - val_rpn_class_loss: 0.0717 - val_rpn_bbox_loss: 0.4463 - val_mrcnn_class_loss: 0.0771 - val_mrcnn_bbox_loss: 0.0981 - val_mrcnn_mask_loss: 0.1141\n",
            "Epoch 16/30\n",
            "100/100 [==============================] - 281s 3s/step - loss: 0.1090 - rpn_class_loss: 0.0025 - rpn_bbox_loss: 0.0139 - mrcnn_class_loss: 0.0142 - mrcnn_bbox_loss: 0.0160 - mrcnn_mask_loss: 0.0625 - val_loss: 0.8277 - val_rpn_class_loss: 0.0708 - val_rpn_bbox_loss: 0.4076 - val_mrcnn_class_loss: 0.1070 - val_mrcnn_bbox_loss: 0.1118 - val_mrcnn_mask_loss: 0.1305\n",
            "Epoch 17/30\n",
            "100/100 [==============================] - 281s 3s/step - loss: 0.1287 - rpn_class_loss: 0.0024 - rpn_bbox_loss: 0.0178 - mrcnn_class_loss: 0.0166 - mrcnn_bbox_loss: 0.0226 - mrcnn_mask_loss: 0.0694 - val_loss: 0.8088 - val_rpn_class_loss: 0.0868 - val_rpn_bbox_loss: 0.4406 - val_mrcnn_class_loss: 0.0665 - val_mrcnn_bbox_loss: 0.1003 - val_mrcnn_mask_loss: 0.1145\n",
            "Epoch 18/30\n",
            "100/100 [==============================] - 281s 3s/step - loss: 0.1201 - rpn_class_loss: 0.0024 - rpn_bbox_loss: 0.0179 - mrcnn_class_loss: 0.0167 - mrcnn_bbox_loss: 0.0184 - mrcnn_mask_loss: 0.0647 - val_loss: 0.7513 - val_rpn_class_loss: 0.0717 - val_rpn_bbox_loss: 0.3365 - val_mrcnn_class_loss: 0.1043 - val_mrcnn_bbox_loss: 0.1186 - val_mrcnn_mask_loss: 0.1201\n",
            "Epoch 19/30\n",
            "100/100 [==============================] - 281s 3s/step - loss: 0.1035 - rpn_class_loss: 0.0021 - rpn_bbox_loss: 0.0140 - mrcnn_class_loss: 0.0131 - mrcnn_bbox_loss: 0.0150 - mrcnn_mask_loss: 0.0593 - val_loss: 0.8768 - val_rpn_class_loss: 0.0886 - val_rpn_bbox_loss: 0.4973 - val_mrcnn_class_loss: 0.0705 - val_mrcnn_bbox_loss: 0.0933 - val_mrcnn_mask_loss: 0.1271\n",
            "Epoch 20/30\n",
            "100/100 [==============================] - 281s 3s/step - loss: 0.0999 - rpn_class_loss: 0.0018 - rpn_bbox_loss: 0.0119 - mrcnn_class_loss: 0.0126 - mrcnn_bbox_loss: 0.0139 - mrcnn_mask_loss: 0.0598 - val_loss: 0.9897 - val_rpn_class_loss: 0.0989 - val_rpn_bbox_loss: 0.5757 - val_mrcnn_class_loss: 0.0956 - val_mrcnn_bbox_loss: 0.1008 - val_mrcnn_mask_loss: 0.1187\n",
            "Epoch 21/30\n",
            " 79/100 [======================>.......] - ETA: 46s - loss: 0.1054 - rpn_class_loss: 0.0022 - rpn_bbox_loss: 0.0148 - mrcnn_class_loss: 0.0131 - mrcnn_bbox_loss: 0.0144 - mrcnn_mask_loss: 0.0610Process ForkPoolWorker-4:\n",
            "Process ForkPoolWorker-2:\n",
            "Process ForkPoolWorker-3:\n",
            "Process ForkPoolWorker-1:\n",
            "Traceback (most recent call last):\n",
            "Traceback (most recent call last):\n",
            "  File \"/usr/lib/python3.7/multiprocessing/process.py\", line 297, in _bootstrap\n",
            "    self.run()\n",
            "  File \"/usr/lib/python3.7/multiprocessing/process.py\", line 297, in _bootstrap\n",
            "    self.run()\n",
            "  File \"/usr/lib/python3.7/multiprocessing/process.py\", line 99, in run\n",
            "    self._target(*self._args, **self._kwargs)\n",
            "  File \"/usr/lib/python3.7/multiprocessing/process.py\", line 99, in run\n",
            "    self._target(*self._args, **self._kwargs)\n",
            "  File \"/usr/lib/python3.7/multiprocessing/pool.py\", line 110, in worker\n",
            "    task = get()\n",
            "  File \"/usr/lib/python3.7/multiprocessing/queues.py\", line 351, in get\n",
            "    with self._rlock:\n",
            "  File \"/usr/lib/python3.7/multiprocessing/pool.py\", line 110, in worker\n",
            "    task = get()\n",
            "  File \"/usr/lib/python3.7/multiprocessing/synchronize.py\", line 95, in __enter__\n",
            "    return self._semlock.__enter__()\n",
            "KeyboardInterrupt\n",
            "  File \"/usr/lib/python3.7/multiprocessing/queues.py\", line 351, in get\n",
            "    with self._rlock:\n",
            "  File \"/usr/lib/python3.7/multiprocessing/synchronize.py\", line 95, in __enter__\n",
            "    return self._semlock.__enter__()\n",
            "KeyboardInterrupt\n",
            "Traceback (most recent call last):\n",
            "Traceback (most recent call last):\n",
            "  File \"/usr/lib/python3.7/multiprocessing/process.py\", line 297, in _bootstrap\n",
            "    self.run()\n",
            "  File \"/usr/lib/python3.7/multiprocessing/process.py\", line 297, in _bootstrap\n",
            "    self.run()\n",
            "  File \"/usr/lib/python3.7/multiprocessing/process.py\", line 99, in run\n",
            "    self._target(*self._args, **self._kwargs)\n",
            "  File \"/usr/lib/python3.7/multiprocessing/pool.py\", line 110, in worker\n",
            "    task = get()\n",
            "  File \"/usr/lib/python3.7/multiprocessing/queues.py\", line 352, in get\n",
            "    res = self._reader.recv_bytes()\n",
            "  File \"/usr/lib/python3.7/multiprocessing/process.py\", line 99, in run\n",
            "    self._target(*self._args, **self._kwargs)\n",
            "  File \"/usr/lib/python3.7/multiprocessing/connection.py\", line 216, in recv_bytes\n",
            "    buf = self._recv_bytes(maxlength)\n",
            "  File \"/usr/lib/python3.7/multiprocessing/connection.py\", line 407, in _recv_bytes\n",
            "    buf = self._recv(4)\n",
            "  File \"/usr/lib/python3.7/multiprocessing/pool.py\", line 110, in worker\n",
            "    task = get()\n",
            "  File \"/usr/lib/python3.7/multiprocessing/connection.py\", line 379, in _recv\n",
            "    chunk = read(handle, remaining)\n",
            "  File \"/usr/lib/python3.7/multiprocessing/queues.py\", line 352, in get\n",
            "    res = self._reader.recv_bytes()\n",
            "KeyboardInterrupt\n",
            "  File \"/usr/lib/python3.7/multiprocessing/connection.py\", line 216, in recv_bytes\n",
            "    buf = self._recv_bytes(maxlength)\n",
            "  File \"/usr/lib/python3.7/multiprocessing/connection.py\", line 407, in _recv_bytes\n",
            "    buf = self._recv(4)\n",
            "  File \"/usr/lib/python3.7/multiprocessing/connection.py\", line 379, in _recv\n",
            "    chunk = read(handle, remaining)\n",
            "KeyboardInterrupt\n",
            "Traceback (most recent call last):\n",
            "  File \"balloon.py\", line 364, in <module>\n",
            "    train(model)\n",
            "  File \"balloon.py\", line 199, in train\n",
            "    layers='heads')\n",
            "  File \"/content/Mask_RCNN/mrcnn/model.py\", line 2374, in train\n",
            "    use_multiprocessing=True,\n",
            "  File \"/usr/local/lib/python3.7/dist-packages/keras/legacy/interfaces.py\", line 91, in wrapper\n",
            "    return func(*args, **kwargs)\n",
            "  File \"/usr/local/lib/python3.7/dist-packages/keras/engine/training.py\", line 1658, in fit_generator\n",
            "    initial_epoch=initial_epoch)\n",
            "  File \"/usr/local/lib/python3.7/dist-packages/keras/engine/training_generator.py\", line 215, in fit_generator\n",
            "    class_weight=class_weight)\n",
            "  File \"/usr/local/lib/python3.7/dist-packages/keras/engine/training.py\", line 1449, in train_on_batch\n",
            "    outputs = self.train_function(ins)\n",
            "  File \"/usr/local/lib/python3.7/dist-packages/keras/backend/tensorflow_backend.py\", line 2979, in __call__\n",
            "    return self._call(inputs)\n",
            "  File \"/usr/local/lib/python3.7/dist-packages/keras/backend/tensorflow_backend.py\", line 2937, in _call\n",
            "    fetched = self._callable_fn(*array_vals)\n",
            "  File \"/usr/local/lib/python3.7/dist-packages/tensorflow_core/python/client/session.py\", line 1472, in __call__\n",
            "    run_metadata_ptr)\n",
            "KeyboardInterrupt\n"
          ],
          "name": "stdout"
        }
      ]
    },
    {
      "cell_type": "markdown",
      "metadata": {
        "id": "SXjiyxPGBiSW"
      },
      "source": [
        "## 학습 완료후 splash 기능으로 모델 성능 확인."
      ]
    },
    {
      "cell_type": "code",
      "metadata": {
        "colab": {
          "base_uri": "https://localhost:8080/"
        },
        "id": "6NyMgGje_uK_",
        "outputId": "e2bed79c-d2ef-4730-dc0b-04e53538ca94"
      },
      "source": [
        "!python3 balloon.py splash --weights='/content/Mask_RCNN/logs/balloon20210820T1146/mask_rcnn_balloon_0020.h5' --image='/content/Mask_RCNN/samples/balloon/dataset/val/14898532020_ba6199dd22_k.jpg'"
      ],
      "execution_count": null,
      "outputs": [
        {
          "output_type": "stream",
          "text": [
            "Using TensorFlow backend.\n",
            "Weights:  /content/Mask_RCNN/logs/balloon20210820T1146/mask_rcnn_balloon_0020.h5\n",
            "Dataset:  None\n",
            "Logs:  /content/Mask_RCNN/logs\n",
            "\n",
            "Configurations:\n",
            "BACKBONE                       resnet101\n",
            "BACKBONE_STRIDES               [4, 8, 16, 32, 64]\n",
            "BATCH_SIZE                     1\n",
            "BBOX_STD_DEV                   [0.1 0.1 0.2 0.2]\n",
            "COMPUTE_BACKBONE_SHAPE         None\n",
            "DETECTION_MAX_INSTANCES        100\n",
            "DETECTION_MIN_CONFIDENCE       0.9\n",
            "DETECTION_NMS_THRESHOLD        0.3\n",
            "FPN_CLASSIF_FC_LAYERS_SIZE     1024\n",
            "GPU_COUNT                      1\n",
            "GRADIENT_CLIP_NORM             5.0\n",
            "IMAGES_PER_GPU                 1\n",
            "IMAGE_CHANNEL_COUNT            3\n",
            "IMAGE_MAX_DIM                  1024\n",
            "IMAGE_META_SIZE                14\n",
            "IMAGE_MIN_DIM                  800\n",
            "IMAGE_MIN_SCALE                0\n",
            "IMAGE_RESIZE_MODE              square\n",
            "IMAGE_SHAPE                    [1024 1024    3]\n",
            "LEARNING_MOMENTUM              0.9\n",
            "LEARNING_RATE                  0.001\n",
            "LOSS_WEIGHTS                   {'rpn_class_loss': 1.0, 'rpn_bbox_loss': 1.0, 'mrcnn_class_loss': 1.0, 'mrcnn_bbox_loss': 1.0, 'mrcnn_mask_loss': 1.0}\n",
            "MASK_POOL_SIZE                 14\n",
            "MASK_SHAPE                     [28, 28]\n",
            "MAX_GT_INSTANCES               100\n",
            "MEAN_PIXEL                     [123.7 116.8 103.9]\n",
            "MINI_MASK_SHAPE                (56, 56)\n",
            "NAME                           balloon\n",
            "NUM_CLASSES                    2\n",
            "POOL_SIZE                      7\n",
            "POST_NMS_ROIS_INFERENCE        1000\n",
            "POST_NMS_ROIS_TRAINING         2000\n",
            "PRE_NMS_LIMIT                  6000\n",
            "ROI_POSITIVE_RATIO             0.33\n",
            "RPN_ANCHOR_RATIOS              [0.5, 1, 2]\n",
            "RPN_ANCHOR_SCALES              (32, 64, 128, 256, 512)\n",
            "RPN_ANCHOR_STRIDE              1\n",
            "RPN_BBOX_STD_DEV               [0.1 0.1 0.2 0.2]\n",
            "RPN_NMS_THRESHOLD              0.7\n",
            "RPN_TRAIN_ANCHORS_PER_IMAGE    256\n",
            "STEPS_PER_EPOCH                100\n",
            "TOP_DOWN_PYRAMID_SIZE          256\n",
            "TRAIN_BN                       False\n",
            "TRAIN_ROIS_PER_IMAGE           200\n",
            "USE_MINI_MASK                  True\n",
            "USE_RPN_ROIS                   True\n",
            "VALIDATION_STEPS               50\n",
            "WEIGHT_DECAY                   0.0001\n",
            "\n",
            "\n",
            "WARNING:tensorflow:From /usr/local/lib/python3.7/dist-packages/keras/backend/tensorflow_backend.py:541: The name tf.placeholder is deprecated. Please use tf.compat.v1.placeholder instead.\n",
            "\n",
            "WARNING:tensorflow:From /usr/local/lib/python3.7/dist-packages/keras/backend/tensorflow_backend.py:66: The name tf.get_default_graph is deprecated. Please use tf.compat.v1.get_default_graph instead.\n",
            "\n",
            "WARNING:tensorflow:From /usr/local/lib/python3.7/dist-packages/keras/backend/tensorflow_backend.py:4432: The name tf.random_uniform is deprecated. Please use tf.random.uniform instead.\n",
            "\n",
            "WARNING:tensorflow:From /usr/local/lib/python3.7/dist-packages/keras/backend/tensorflow_backend.py:2139: The name tf.nn.fused_batch_norm is deprecated. Please use tf.compat.v1.nn.fused_batch_norm instead.\n",
            "\n",
            "WARNING:tensorflow:From /usr/local/lib/python3.7/dist-packages/keras/backend/tensorflow_backend.py:4267: The name tf.nn.max_pool is deprecated. Please use tf.nn.max_pool2d instead.\n",
            "\n",
            "WARNING:tensorflow:From /usr/local/lib/python3.7/dist-packages/keras/backend/tensorflow_backend.py:2239: The name tf.image.resize_nearest_neighbor is deprecated. Please use tf.compat.v1.image.resize_nearest_neighbor instead.\n",
            "\n",
            "WARNING:tensorflow:From /content/Mask_RCNN/mrcnn/model.py:341: The name tf.log is deprecated. Please use tf.math.log instead.\n",
            "\n",
            "WARNING:tensorflow:From /content/Mask_RCNN/mrcnn/model.py:399: where (from tensorflow.python.ops.array_ops) is deprecated and will be removed in a future version.\n",
            "Instructions for updating:\n",
            "Use tf.where in 2.0, which has the same broadcast rule as np.where\n",
            "WARNING:tensorflow:From /content/Mask_RCNN/mrcnn/model.py:423: calling crop_and_resize_v1 (from tensorflow.python.ops.image_ops_impl) with box_ind is deprecated and will be removed in a future version.\n",
            "Instructions for updating:\n",
            "box_ind is deprecated, use box_indices instead\n",
            "WARNING:tensorflow:From /content/Mask_RCNN/mrcnn/model.py:720: The name tf.sets.set_intersection is deprecated. Please use tf.sets.intersection instead.\n",
            "\n",
            "WARNING:tensorflow:From /content/Mask_RCNN/mrcnn/model.py:722: The name tf.sparse_tensor_to_dense is deprecated. Please use tf.sparse.to_dense instead.\n",
            "\n",
            "WARNING:tensorflow:From /content/Mask_RCNN/mrcnn/model.py:772: to_float (from tensorflow.python.ops.math_ops) is deprecated and will be removed in a future version.\n",
            "Instructions for updating:\n",
            "Use `tf.cast` instead.\n",
            "Loading weights  /content/Mask_RCNN/logs/balloon20210820T1146/mask_rcnn_balloon_0020.h5\n",
            "WARNING:tensorflow:From /usr/local/lib/python3.7/dist-packages/keras/backend/tensorflow_backend.py:190: The name tf.get_default_session is deprecated. Please use tf.compat.v1.get_default_session instead.\n",
            "\n",
            "WARNING:tensorflow:From /usr/local/lib/python3.7/dist-packages/keras/backend/tensorflow_backend.py:197: The name tf.ConfigProto is deprecated. Please use tf.compat.v1.ConfigProto instead.\n",
            "\n",
            "WARNING:tensorflow:From /usr/local/lib/python3.7/dist-packages/keras/backend/tensorflow_backend.py:203: The name tf.Session is deprecated. Please use tf.compat.v1.Session instead.\n",
            "\n",
            "2021-08-20 13:26:43.770462: I tensorflow/core/platform/cpu_feature_guard.cc:142] Your CPU supports instructions that this TensorFlow binary was not compiled to use: AVX2 FMA\n",
            "2021-08-20 13:26:43.804624: I tensorflow/core/platform/profile_utils/cpu_utils.cc:94] CPU Frequency: 2199995000 Hz\n",
            "2021-08-20 13:26:43.805211: I tensorflow/compiler/xla/service/service.cc:168] XLA service 0x564f8e328d80 initialized for platform Host (this does not guarantee that XLA will be used). Devices:\n",
            "2021-08-20 13:26:43.805245: I tensorflow/compiler/xla/service/service.cc:176]   StreamExecutor device (0): Host, Default Version\n",
            "2021-08-20 13:26:43.819356: I tensorflow/stream_executor/platform/default/dso_loader.cc:44] Successfully opened dynamic library libcuda.so.1\n",
            "2021-08-20 13:26:43.971322: I tensorflow/stream_executor/cuda/cuda_gpu_executor.cc:983] successful NUMA node read from SysFS had negative value (-1), but there must be at least one NUMA node, so returning NUMA node zero\n",
            "2021-08-20 13:26:43.972384: I tensorflow/compiler/xla/service/service.cc:168] XLA service 0x564f8e3292c0 initialized for platform CUDA (this does not guarantee that XLA will be used). Devices:\n",
            "2021-08-20 13:26:43.972418: I tensorflow/compiler/xla/service/service.cc:176]   StreamExecutor device (0): Tesla K80, Compute Capability 3.7\n",
            "2021-08-20 13:26:43.972640: I tensorflow/stream_executor/cuda/cuda_gpu_executor.cc:983] successful NUMA node read from SysFS had negative value (-1), but there must be at least one NUMA node, so returning NUMA node zero\n",
            "2021-08-20 13:26:43.973359: I tensorflow/core/common_runtime/gpu/gpu_device.cc:1618] Found device 0 with properties: \n",
            "name: Tesla K80 major: 3 minor: 7 memoryClockRate(GHz): 0.8235\n",
            "pciBusID: 0000:00:04.0\n",
            "2021-08-20 13:26:43.977641: I tensorflow/stream_executor/platform/default/dso_loader.cc:44] Successfully opened dynamic library libcudart.so.10.0\n",
            "2021-08-20 13:26:43.993742: I tensorflow/stream_executor/platform/default/dso_loader.cc:44] Successfully opened dynamic library libcublas.so.10.0\n",
            "2021-08-20 13:26:43.998710: I tensorflow/stream_executor/platform/default/dso_loader.cc:44] Successfully opened dynamic library libcufft.so.10.0\n",
            "2021-08-20 13:26:44.007992: I tensorflow/stream_executor/platform/default/dso_loader.cc:44] Successfully opened dynamic library libcurand.so.10.0\n",
            "2021-08-20 13:26:44.019045: I tensorflow/stream_executor/platform/default/dso_loader.cc:44] Successfully opened dynamic library libcusolver.so.10.0\n",
            "2021-08-20 13:26:44.025054: I tensorflow/stream_executor/platform/default/dso_loader.cc:44] Successfully opened dynamic library libcusparse.so.10.0\n",
            "2021-08-20 13:26:44.053009: I tensorflow/stream_executor/platform/default/dso_loader.cc:44] Successfully opened dynamic library libcudnn.so.7\n",
            "2021-08-20 13:26:44.053132: I tensorflow/stream_executor/cuda/cuda_gpu_executor.cc:983] successful NUMA node read from SysFS had negative value (-1), but there must be at least one NUMA node, so returning NUMA node zero\n",
            "2021-08-20 13:26:44.053910: I tensorflow/stream_executor/cuda/cuda_gpu_executor.cc:983] successful NUMA node read from SysFS had negative value (-1), but there must be at least one NUMA node, so returning NUMA node zero\n",
            "2021-08-20 13:26:44.054554: I tensorflow/core/common_runtime/gpu/gpu_device.cc:1746] Adding visible gpu devices: 0\n",
            "2021-08-20 13:26:44.054623: I tensorflow/stream_executor/platform/default/dso_loader.cc:44] Successfully opened dynamic library libcudart.so.10.0\n",
            "2021-08-20 13:26:44.055899: I tensorflow/core/common_runtime/gpu/gpu_device.cc:1159] Device interconnect StreamExecutor with strength 1 edge matrix:\n",
            "2021-08-20 13:26:44.055932: I tensorflow/core/common_runtime/gpu/gpu_device.cc:1165]      0 \n",
            "2021-08-20 13:26:44.055948: I tensorflow/core/common_runtime/gpu/gpu_device.cc:1178] 0:   N \n",
            "2021-08-20 13:26:44.056097: I tensorflow/stream_executor/cuda/cuda_gpu_executor.cc:983] successful NUMA node read from SysFS had negative value (-1), but there must be at least one NUMA node, so returning NUMA node zero\n",
            "2021-08-20 13:26:44.056831: I tensorflow/stream_executor/cuda/cuda_gpu_executor.cc:983] successful NUMA node read from SysFS had negative value (-1), but there must be at least one NUMA node, so returning NUMA node zero\n",
            "2021-08-20 13:26:44.057506: W tensorflow/core/common_runtime/gpu/gpu_bfc_allocator.cc:39] Overriding allow_growth setting because the TF_FORCE_GPU_ALLOW_GROWTH environment variable is set. Original config value was 0.\n",
            "2021-08-20 13:26:44.057576: I tensorflow/core/common_runtime/gpu/gpu_device.cc:1304] Created TensorFlow device (/job:localhost/replica:0/task:0/device:GPU:0 with 10813 MB memory) -> physical GPU (device: 0, name: Tesla K80, pci bus id: 0000:00:04.0, compute capability: 3.7)\n",
            "WARNING:tensorflow:From /usr/local/lib/python3.7/dist-packages/keras/backend/tensorflow_backend.py:207: The name tf.global_variables is deprecated. Please use tf.compat.v1.global_variables instead.\n",
            "\n",
            "WARNING:tensorflow:From /usr/local/lib/python3.7/dist-packages/keras/backend/tensorflow_backend.py:216: The name tf.is_variable_initialized is deprecated. Please use tf.compat.v1.is_variable_initialized instead.\n",
            "\n",
            "WARNING:tensorflow:From /usr/local/lib/python3.7/dist-packages/keras/backend/tensorflow_backend.py:223: The name tf.variables_initializer is deprecated. Please use tf.compat.v1.variables_initializer instead.\n",
            "\n",
            "Re-starting from epoch 20\n",
            "Running on /content/Mask_RCNN/samples/balloon/dataset/val/14898532020_ba6199dd22_k.jpg\n",
            "Processing 1 images\n",
            "image                    shape: (1365, 2048, 3)       min:    0.00000  max:  255.00000  uint8\n",
            "molded_images            shape: (1, 1024, 1024, 3)    min: -123.70000  max:  151.10000  float64\n",
            "image_metas              shape: (1, 14)               min:    0.00000  max: 2048.00000  float64\n",
            "anchors                  shape: (1, 261888, 4)        min:   -0.35390  max:    1.29134  float32\n",
            "2021-08-20 13:26:50.185222: I tensorflow/stream_executor/platform/default/dso_loader.cc:44] Successfully opened dynamic library libcublas.so.10.0\n",
            "2021-08-20 13:26:50.426213: I tensorflow/stream_executor/platform/default/dso_loader.cc:44] Successfully opened dynamic library libcudnn.so.7\n",
            "Saved to  splash_20210820T132655.png\n"
          ],
          "name": "stdout"
        }
      ]
    },
    {
      "cell_type": "markdown",
      "metadata": {
        "id": "0wFcrX5tBoBE"
      },
      "source": [
        "splash 기능은 모델이 얻어낸 mask를 기반으로 그 영역에 해당하는 부분만 색을 입히고 나머지 부분은 흑백처리함."
      ]
    }
  ]
}